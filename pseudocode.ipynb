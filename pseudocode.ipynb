{
  "nbformat": 4,
  "nbformat_minor": 0,
  "metadata": {
    "colab": {
      "provenance": []
    },
    "kernelspec": {
      "name": "python3",
      "display_name": "Python 3"
    },
    "language_info": {
      "name": "python"
    }
  },
  "cells": [
    {
      "cell_type": "code",
      "execution_count": 32,
      "metadata": {
        "colab": {
          "base_uri": "https://localhost:8080/"
        },
        "id": "DjZSemvl1xYQ",
        "outputId": "69fcade0-8606-470b-b97c-d440ad50a4ed"
      },
      "outputs": [
        {
          "output_type": "stream",
          "name": "stdout",
          "text": [
            "Gandalf wins!\n"
          ]
        }
      ],
      "source": [
        "gandalf = [10, 11, 13, 30, 22, 11, 10, 33, 22, 22]\n",
        "saruman = [23, 66, 12, 43, 12, 10, 44, 23, 12, 17]\n",
        "\n",
        "gandalf_win = 0\n",
        "saruman_win = 0\n",
        "\n",
        "for p in range(0, len(saruman)):\n",
        "    if (gandalf[p] > saruman[p]): \n",
        "        gandalf_win += 1\n",
        "    elif (saruman[p]> gandalf[p]):\n",
        "        saruman_win += 1\n",
        "  \n",
        "if (gandalf_win > saruman_win):\n",
        "    print('Gandalf wins!')\n",
        "elif (saruman_win < gandalf_win):\n",
        "    print('Saruman wins!')\n",
        "else:\n",
        "    print('No winners, it is a tie!')\n",
        "\n",
        "\n",
        "\n"
      ]
    }
  ]
}